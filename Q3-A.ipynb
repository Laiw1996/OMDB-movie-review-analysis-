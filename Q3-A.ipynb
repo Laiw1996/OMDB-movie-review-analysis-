{
 "cells": [
  {
   "cell_type": "code",
   "execution_count": 1,
   "metadata": {},
   "outputs": [],
   "source": [
    "import sys\n",
    "import numpy as np \n",
    "import pandas as pd\n",
    "import matplotlib.pyplot as plt\n",
    "\n",
    "from sklearn.naive_bayes import GaussianNB\n",
    "from sklearn.model_selection import train_test_split\n",
    "from sklearn.pipeline import make_pipeline\n",
    "from sklearn.preprocessing import FunctionTransformer\n",
    "from sklearn.feature_extraction.text import CountVectorizer\n",
    "from sklearn.naive_bayes import MultinomialNB\n",
    "from sklearn.feature_extraction.text import TfidfVectorizer\n",
    "from sklearn.metrics import accuracy_score \n",
    "from sklearn.metrics import confusion_matrix"
   ]
  },
  {
   "cell_type": "code",
   "execution_count": 2,
   "metadata": {},
   "outputs": [],
   "source": [
    "omdb = pd.read_json('omdb-data.json.gz', orient='record', lines=True)\n",
    "wiki = pd.read_json('wikidata-movies.json.gz', orient='record', lines=True)\n",
    "tomatoes = pd.read_json('rotten-tomatoes.json.gz', orient='record', lines=True)"
   ]
  },
  {
   "cell_type": "code",
   "execution_count": 3,
   "metadata": {},
   "outputs": [],
   "source": [
    "omdb = omdb[['imdb_id','omdb_plot']]"
   ]
  },
  {
   "cell_type": "code",
   "execution_count": 4,
   "metadata": {},
   "outputs": [],
   "source": [
    "df = pd.merge(wiki, tomatoes, on='imdb_id', how='inner')"
   ]
  },
  {
   "cell_type": "code",
   "execution_count": 5,
   "metadata": {},
   "outputs": [],
   "source": [
    "df = df[['imdb_id','audience_average','audience_percent','audience_ratings','critic_average','critic_percent']]"
   ]
  },
  {
   "cell_type": "code",
   "execution_count": 6,
   "metadata": {},
   "outputs": [],
   "source": [
    "df = df[df['audience_ratings'] > 3000]"
   ]
  },
  {
   "cell_type": "code",
   "execution_count": 7,
   "metadata": {},
   "outputs": [],
   "source": [
    "df = df.dropna(how = 'any')"
   ]
  },
  {
   "cell_type": "code",
   "execution_count": 8,
   "metadata": {},
   "outputs": [],
   "source": [
    "df['overall'] = (df['audience_average']/5.0)*30 + (df['audience_percent']/100)*10 + (df['critic_average']/10.0)*40 + (df['critic_percent']/100)*20"
   ]
  },
  {
   "cell_type": "code",
   "execution_count": 9,
   "metadata": {},
   "outputs": [],
   "source": [
    "df.loc[df['overall'] >= 80, \"success\",]= 'success'\n",
    "df.loc[df['overall'] < 80, \"success\",]= 'no_success'"
   ]
  },
  {
   "cell_type": "code",
   "execution_count": 10,
   "metadata": {},
   "outputs": [],
   "source": [
    "df = df[['imdb_id','success']]"
   ]
  },
  {
   "cell_type": "code",
   "execution_count": 11,
   "metadata": {},
   "outputs": [
    {
     "data": {
      "text/html": [
       "<div>\n",
       "<style scoped>\n",
       "    .dataframe tbody tr th:only-of-type {\n",
       "        vertical-align: middle;\n",
       "    }\n",
       "\n",
       "    .dataframe tbody tr th {\n",
       "        vertical-align: top;\n",
       "    }\n",
       "\n",
       "    .dataframe thead th {\n",
       "        text-align: right;\n",
       "    }\n",
       "</style>\n",
       "<table border=\"1\" class=\"dataframe\">\n",
       "  <thead>\n",
       "    <tr style=\"text-align: right;\">\n",
       "      <th></th>\n",
       "      <th>imdb_id</th>\n",
       "      <th>success</th>\n",
       "    </tr>\n",
       "  </thead>\n",
       "  <tbody>\n",
       "    <tr>\n",
       "      <th>60</th>\n",
       "      <td>tt4157220</td>\n",
       "      <td>success</td>\n",
       "    </tr>\n",
       "    <tr>\n",
       "      <th>61</th>\n",
       "      <td>tt0498329</td>\n",
       "      <td>no_success</td>\n",
       "    </tr>\n",
       "    <tr>\n",
       "      <th>63</th>\n",
       "      <td>tt2006040</td>\n",
       "      <td>no_success</td>\n",
       "    </tr>\n",
       "    <tr>\n",
       "      <th>66</th>\n",
       "      <td>tt0412637</td>\n",
       "      <td>no_success</td>\n",
       "    </tr>\n",
       "    <tr>\n",
       "      <th>67</th>\n",
       "      <td>tt1341167</td>\n",
       "      <td>no_success</td>\n",
       "    </tr>\n",
       "  </tbody>\n",
       "</table>\n",
       "</div>"
      ],
      "text/plain": [
       "      imdb_id     success\n",
       "60  tt4157220     success\n",
       "61  tt0498329  no_success\n",
       "63  tt2006040  no_success\n",
       "66  tt0412637  no_success\n",
       "67  tt1341167  no_success"
      ]
     },
     "execution_count": 11,
     "metadata": {},
     "output_type": "execute_result"
    }
   ],
   "source": [
    "df.head()"
   ]
  },
  {
   "cell_type": "code",
   "execution_count": 12,
   "metadata": {
    "scrolled": true
   },
   "outputs": [
    {
     "data": {
      "text/html": [
       "<div>\n",
       "<style scoped>\n",
       "    .dataframe tbody tr th:only-of-type {\n",
       "        vertical-align: middle;\n",
       "    }\n",
       "\n",
       "    .dataframe tbody tr th {\n",
       "        vertical-align: top;\n",
       "    }\n",
       "\n",
       "    .dataframe thead th {\n",
       "        text-align: right;\n",
       "    }\n",
       "</style>\n",
       "<table border=\"1\" class=\"dataframe\">\n",
       "  <thead>\n",
       "    <tr style=\"text-align: right;\">\n",
       "      <th></th>\n",
       "      <th>imdb_id</th>\n",
       "      <th>omdb_plot</th>\n",
       "    </tr>\n",
       "  </thead>\n",
       "  <tbody>\n",
       "    <tr>\n",
       "      <th>0</th>\n",
       "      <td>tt0060814</td>\n",
       "      <td>In this sprawling, star-laden film, we see the...</td>\n",
       "    </tr>\n",
       "    <tr>\n",
       "      <th>1</th>\n",
       "      <td>tt2379713</td>\n",
       "      <td>A cryptic message from the past sends James Bo...</td>\n",
       "    </tr>\n",
       "    <tr>\n",
       "      <th>2</th>\n",
       "      <td>tt0230575</td>\n",
       "      <td>The makers of this parody of \"Night of the Liv...</td>\n",
       "    </tr>\n",
       "    <tr>\n",
       "      <th>3</th>\n",
       "      <td>tt0065988</td>\n",
       "      <td>Jack Crabb is 121 years old as the film begins...</td>\n",
       "    </tr>\n",
       "    <tr>\n",
       "      <th>4</th>\n",
       "      <td>tt1995390</td>\n",
       "      <td>When Perry and his girlfriend, Gail, cross pat...</td>\n",
       "    </tr>\n",
       "  </tbody>\n",
       "</table>\n",
       "</div>"
      ],
      "text/plain": [
       "     imdb_id                                          omdb_plot\n",
       "0  tt0060814  In this sprawling, star-laden film, we see the...\n",
       "1  tt2379713  A cryptic message from the past sends James Bo...\n",
       "2  tt0230575  The makers of this parody of \"Night of the Liv...\n",
       "3  tt0065988  Jack Crabb is 121 years old as the film begins...\n",
       "4  tt1995390  When Perry and his girlfriend, Gail, cross pat..."
      ]
     },
     "execution_count": 12,
     "metadata": {},
     "output_type": "execute_result"
    }
   ],
   "source": [
    "omdb.head()"
   ]
  },
  {
   "cell_type": "code",
   "execution_count": 13,
   "metadata": {},
   "outputs": [],
   "source": [
    "omdb = omdb.join(df.set_index('imdb_id'), on = 'imdb_id')"
   ]
  },
  {
   "cell_type": "code",
   "execution_count": 14,
   "metadata": {},
   "outputs": [
    {
     "data": {
      "text/html": [
       "<div>\n",
       "<style scoped>\n",
       "    .dataframe tbody tr th:only-of-type {\n",
       "        vertical-align: middle;\n",
       "    }\n",
       "\n",
       "    .dataframe tbody tr th {\n",
       "        vertical-align: top;\n",
       "    }\n",
       "\n",
       "    .dataframe thead th {\n",
       "        text-align: right;\n",
       "    }\n",
       "</style>\n",
       "<table border=\"1\" class=\"dataframe\">\n",
       "  <thead>\n",
       "    <tr style=\"text-align: right;\">\n",
       "      <th></th>\n",
       "      <th>imdb_id</th>\n",
       "      <th>omdb_plot</th>\n",
       "      <th>success</th>\n",
       "    </tr>\n",
       "  </thead>\n",
       "  <tbody>\n",
       "    <tr>\n",
       "      <th>0</th>\n",
       "      <td>tt0060814</td>\n",
       "      <td>In this sprawling, star-laden film, we see the...</td>\n",
       "      <td>NaN</td>\n",
       "    </tr>\n",
       "    <tr>\n",
       "      <th>1</th>\n",
       "      <td>tt2379713</td>\n",
       "      <td>A cryptic message from the past sends James Bo...</td>\n",
       "      <td>no_success</td>\n",
       "    </tr>\n",
       "    <tr>\n",
       "      <th>2</th>\n",
       "      <td>tt0230575</td>\n",
       "      <td>The makers of this parody of \"Night of the Liv...</td>\n",
       "      <td>NaN</td>\n",
       "    </tr>\n",
       "    <tr>\n",
       "      <th>3</th>\n",
       "      <td>tt0065988</td>\n",
       "      <td>Jack Crabb is 121 years old as the film begins...</td>\n",
       "      <td>success</td>\n",
       "    </tr>\n",
       "    <tr>\n",
       "      <th>4</th>\n",
       "      <td>tt1995390</td>\n",
       "      <td>When Perry and his girlfriend, Gail, cross pat...</td>\n",
       "      <td>no_success</td>\n",
       "    </tr>\n",
       "  </tbody>\n",
       "</table>\n",
       "</div>"
      ],
      "text/plain": [
       "     imdb_id                                          omdb_plot     success\n",
       "0  tt0060814  In this sprawling, star-laden film, we see the...         NaN\n",
       "1  tt2379713  A cryptic message from the past sends James Bo...  no_success\n",
       "2  tt0230575  The makers of this parody of \"Night of the Liv...         NaN\n",
       "3  tt0065988  Jack Crabb is 121 years old as the film begins...     success\n",
       "4  tt1995390  When Perry and his girlfriend, Gail, cross pat...  no_success"
      ]
     },
     "execution_count": 14,
     "metadata": {},
     "output_type": "execute_result"
    }
   ],
   "source": [
    "omdb.head()"
   ]
  },
  {
   "cell_type": "code",
   "execution_count": 15,
   "metadata": {},
   "outputs": [],
   "source": [
    "omdb = omdb.dropna(how = 'any')"
   ]
  },
  {
   "cell_type": "code",
   "execution_count": 16,
   "metadata": {},
   "outputs": [],
   "source": [
    "data = omdb[['success', 'omdb_plot']]"
   ]
  },
  {
   "cell_type": "code",
   "execution_count": 17,
   "metadata": {},
   "outputs": [
    {
     "data": {
      "text/html": [
       "<div>\n",
       "<style scoped>\n",
       "    .dataframe tbody tr th:only-of-type {\n",
       "        vertical-align: middle;\n",
       "    }\n",
       "\n",
       "    .dataframe tbody tr th {\n",
       "        vertical-align: top;\n",
       "    }\n",
       "\n",
       "    .dataframe thead th {\n",
       "        text-align: right;\n",
       "    }\n",
       "</style>\n",
       "<table border=\"1\" class=\"dataframe\">\n",
       "  <thead>\n",
       "    <tr style=\"text-align: right;\">\n",
       "      <th></th>\n",
       "      <th>success</th>\n",
       "      <th>omdb_plot</th>\n",
       "    </tr>\n",
       "  </thead>\n",
       "  <tbody>\n",
       "    <tr>\n",
       "      <th>1</th>\n",
       "      <td>no_success</td>\n",
       "      <td>A cryptic message from the past sends James Bo...</td>\n",
       "    </tr>\n",
       "    <tr>\n",
       "      <th>3</th>\n",
       "      <td>success</td>\n",
       "      <td>Jack Crabb is 121 years old as the film begins...</td>\n",
       "    </tr>\n",
       "    <tr>\n",
       "      <th>4</th>\n",
       "      <td>no_success</td>\n",
       "      <td>When Perry and his girlfriend, Gail, cross pat...</td>\n",
       "    </tr>\n",
       "    <tr>\n",
       "      <th>5</th>\n",
       "      <td>success</td>\n",
       "      <td>Protagonist Alex DeLarge is an \"ultraviolent\" ...</td>\n",
       "    </tr>\n",
       "    <tr>\n",
       "      <th>6</th>\n",
       "      <td>no_success</td>\n",
       "      <td>Captain Jack Sparrow (Depp) crosses paths with...</td>\n",
       "    </tr>\n",
       "  </tbody>\n",
       "</table>\n",
       "</div>"
      ],
      "text/plain": [
       "      success                                          omdb_plot\n",
       "1  no_success  A cryptic message from the past sends James Bo...\n",
       "3     success  Jack Crabb is 121 years old as the film begins...\n",
       "4  no_success  When Perry and his girlfriend, Gail, cross pat...\n",
       "5     success  Protagonist Alex DeLarge is an \"ultraviolent\" ...\n",
       "6  no_success  Captain Jack Sparrow (Depp) crosses paths with..."
      ]
     },
     "execution_count": 17,
     "metadata": {},
     "output_type": "execute_result"
    }
   ],
   "source": [
    "data.head()"
   ]
  },
  {
   "cell_type": "markdown",
   "metadata": {},
   "source": [
    "### Machine Learning with Text TF-IDF "
   ]
  },
  {
   "cell_type": "code",
   "execution_count": 18,
   "metadata": {},
   "outputs": [
    {
     "name": "stdout",
     "output_type": "stream",
     "text": [
      "0.8282747603833865\n"
     ]
    }
   ],
   "source": [
    "cv = TfidfVectorizer(min_df=1, stop_words='english')\n",
    "X = data['omdb_plot']\n",
    "y = data['success']\n",
    "X_train, X_test, y_train, y_test = train_test_split(X, y)\n",
    "x_traincv = cv.fit_transform(X_train)\n",
    "model_1 = MultinomialNB(alpha=0.1, fit_prior=False,)\n",
    "model_1.fit(x_traincv, y_train)\n",
    "x_testcv = cv.transform(X_test)\n",
    "predict = model_1.predict(x_testcv)\n",
    "actual = np.array(y_test)\n",
    "print(accuracy_score(actual, predict))"
   ]
  },
  {
   "cell_type": "code",
   "execution_count": 19,
   "metadata": {},
   "outputs": [],
   "source": [
    "my_tags = ['success', 'no_success']\n",
    "def plot_confusion_matrix(cm, title='Confusion matrix', cmap=plt.cm.Greys):\n",
    "    plt.imshow(cm, interpolation='nearest', cmap=cmap)\n",
    "    plt.title(title)\n",
    "    plt.colorbar()\n",
    "    tick_marks = np.arange(len(my_tags))\n",
    "    target_names = my_tags\n",
    "    plt.xticks(tick_marks, target_names, rotation=0)\n",
    "    plt.yticks(tick_marks, target_names)\n",
    "#     plt.tight_layout()\n",
    "    plt.ylabel('True')\n",
    "    plt.xlabel('Predicted')"
   ]
  },
  {
   "cell_type": "code",
   "execution_count": 20,
   "metadata": {},
   "outputs": [
    {
     "name": "stdout",
     "output_type": "stream",
     "text": [
      "confusion matrix\n",
      " [[1010   48]\n",
      " [ 167   27]]\n",
      "(row=True, col=predicted)\n"
     ]
    },
    {
     "data": {
      "image/png": "[encoded data removed]",
      "text/plain": [
       "<matplotlib.figure.Figure at 0x1a0d04c5c0>"
      ]
     },
     "metadata": {},
     "output_type": "display_data"
    }
   ],
   "source": [
    "cm = confusion_matrix(actual, predict)\n",
    "print('confusion matrix\\n %s' % cm)\n",
    "print('(row=True, col=predicted)')\n",
    "\n",
    "cm_normalized = cm.astype('float') / cm.sum(axis=1)[:, np.newaxis]\n",
    "plt.figure(figsize=(8,8))\n",
    "plot_confusion_matrix(cm_normalized, 'Confusion Matrix Normalized')\n",
    "plt.show()"
   ]
  },
  {
   "cell_type": "markdown",
   "metadata": {},
   "source": [
    "### Machine Learning with Text Count Vectorizer"
   ]
  },
  {
   "cell_type": "code",
   "execution_count": 21,
   "metadata": {},
   "outputs": [
    {
     "name": "stdout",
     "output_type": "stream",
     "text": [
      "0.805111821086262\n"
     ]
    }
   ],
   "source": [
    "cv1 = CountVectorizer()\n",
    "X = data['omdb_plot']\n",
    "y = data['success']\n",
    "X_train, X_test, y_train, y_test = train_test_split(X, y)\n",
    "x_traincv = cv1.fit_transform(X_train)\n",
    "model_2 = MultinomialNB(alpha=0.1, fit_prior=False,)\n",
    "model_2.fit(x_traincv, y_train)\n",
    "x_testcv = cv1.transform(X_test)\n",
    "predict2 = model_2.predict(x_testcv)\n",
    "actual2 = np.array(y_test)\n",
    "print(accuracy_score(actual2, predict2))"
   ]
  },
  {
   "cell_type": "code",
   "execution_count": 22,
   "metadata": {},
   "outputs": [
    {
     "name": "stdout",
     "output_type": "stream",
     "text": [
      "confusion matrix\n",
      " [[986  73]\n",
      " [171  22]]\n",
      "(row=True, col=predicted)\n"
     ]
    },
    {
     "data": {
      "image/png": "[encoded data removed]",
      "text/plain": [
       "<matplotlib.figure.Figure at 0x1a12641b38>"
      ]
     },
     "metadata": {},
     "output_type": "display_data"
    }
   ],
   "source": [
    "cm = confusion_matrix(actual2, predict2)\n",
    "print('confusion matrix\\n %s' % cm)\n",
    "print('(row=True, col=predicted)')\n",
    "\n",
    "cm_normalized = cm.astype('float') / cm.sum(axis=1)[:, np.newaxis]\n",
    "plt.figure(figsize=(8,8))\n",
    "plot_confusion_matrix(cm_normalized, 'Confusion Matrix Normalized')\n",
    "plt.show()"
   ]
  },
  {
   "cell_type": "markdown",
   "metadata": {},
   "source": [
    "### Grid Searching to find the best parameters for my models"
   ]
  },
  {
   "cell_type": "code",
   "execution_count": 23,
   "metadata": {},
   "outputs": [
    {
     "name": "stdout",
     "output_type": "stream",
     "text": [
      "Best parameters set found on training set:\n",
      "{'alpha': 0.2, 'fit_prior': True}\n"
     ]
    },
    {
     "data": {
      "text/plain": [
       "0.8402555910543131"
      ]
     },
     "execution_count": 23,
     "metadata": {},
     "output_type": "execute_result"
    }
   ],
   "source": [
    "from sklearn.model_selection import GridSearchCV\n",
    "\n",
    "tuning_parameters = {'alpha': [1e-2, 1e-3, 1e-1, 0.2, 0.3, 0.4, 0.5, 0.6, 0.7, 0.8, 0.9, 1], 'fit_prior':[True, False]}\n",
    "clf = GridSearchCV(MultinomialNB(), tuning_parameters, cv=None, n_jobs=-1, verbose=0, scoring='accuracy')\n",
    "\n",
    "X_train, X_test, y_train, y_test = train_test_split(X, y)\n",
    "x_traincv = cv.fit_transform(X_train)\n",
    "x_testcv = cv.transform(X_test)\n",
    "\n",
    "clf.fit(x_traincv, y_train)\n",
    "print(\"Best parameters set found on training set:\")\n",
    "print(clf.best_params_)\n",
    "predicted_mb = clf.predict(x_testcv)\n",
    "accuracy_score(y_test, predicted_mb)"
   ]
  },
  {
   "cell_type": "code",
   "execution_count": 24,
   "metadata": {},
   "outputs": [
    {
     "name": "stdout",
     "output_type": "stream",
     "text": [
      "Best parameters set found on training set:\n",
      "{'alpha': 1, 'fit_prior': True}\n"
     ]
    },
    {
     "data": {
      "text/plain": [
       "0.8538338658146964"
      ]
     },
     "execution_count": 24,
     "metadata": {},
     "output_type": "execute_result"
    }
   ],
   "source": [
    "tuning_parameters = {'alpha': [1e-2, 1e-3, 1e-1, 0.2, 0.3, 0.4, 0.5, 0.6, 0.7, 0.8, 0.9, 1], 'fit_prior':[True, False]}\n",
    "clf = GridSearchCV(MultinomialNB(), tuning_parameters, cv=None, n_jobs=-1, verbose=0, scoring='accuracy')\n",
    "\n",
    "X_train, X_test, y_train, y_test = train_test_split(X, y)\n",
    "x_traincv = cv1.fit_transform(X_train)\n",
    "x_testcv = cv1.transform(X_test)\n",
    "\n",
    "clf.fit(x_traincv, y_train)\n",
    "print(\"Best parameters set found on training set:\")\n",
    "print(clf.best_params_)\n",
    "predicted_mb = clf.predict(x_testcv)\n",
    "accuracy_score(y_test, predicted_mb)"
   ]
  },
  {
   "cell_type": "code",
   "execution_count": null,
   "metadata": {},
   "outputs": [],
   "source": []
  }
 ],
 "metadata": {
  "kernelspec": {
   "display_name": "Python 3",
   "language": "python",
   "name": "python3"
  },
  "language_info": {
   "codemirror_mode": {
    "name": "ipython",
    "version": 3
   },
   "file_extension": ".py",
   "mimetype": "text/x-python",
   "name": "python",
   "nbconvert_exporter": "python",
   "pygments_lexer": "ipython3",
   "version": "3.6.4"
  }
 },
 "nbformat": 4,
 "nbformat_minor": 2
}
